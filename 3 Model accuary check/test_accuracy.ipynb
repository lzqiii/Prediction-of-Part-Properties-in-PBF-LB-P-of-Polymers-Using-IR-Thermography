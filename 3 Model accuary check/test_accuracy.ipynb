{
 "cells": [
  {
   "cell_type": "markdown",
   "id": "a56046f8",
   "metadata": {},
   "source": [
    "This code is used to check the accuracy of the model"
   ]
  },
  {
   "cell_type": "code",
   "execution_count": 1,
   "metadata": {},
   "outputs": [
    {
     "data": {
      "text/html": [
       "<div class=\"bk-root\">\n",
       "        <a href=\"https://bokeh.org\" target=\"_blank\" class=\"bk-logo bk-logo-small bk-logo-notebook\"></a>\n",
       "        <span id=\"1002\">Loading BokehJS ...</span>\n",
       "    </div>\n"
      ]
     },
     "metadata": {},
     "output_type": "display_data"
    },
    {
     "data": {
      "application/javascript": "(function(root) {\n  function now() {\n    return new Date();\n  }\n\n  const force = true;\n\n  if (typeof root._bokeh_onload_callbacks === \"undefined\" || force === true) {\n    root._bokeh_onload_callbacks = [];\n    root._bokeh_is_loading = undefined;\n  }\n\nconst JS_MIME_TYPE = 'application/javascript';\n  const HTML_MIME_TYPE = 'text/html';\n  const EXEC_MIME_TYPE = 'application/vnd.bokehjs_exec.v0+json';\n  const CLASS_NAME = 'output_bokeh rendered_html';\n\n  /**\n   * Render data to the DOM node\n   */\n  function render(props, node) {\n    const script = document.createElement(\"script\");\n    node.appendChild(script);\n  }\n\n  /**\n   * Handle when an output is cleared or removed\n   */\n  function handleClearOutput(event, handle) {\n    const cell = handle.cell;\n\n    const id = cell.output_area._bokeh_element_id;\n    const server_id = cell.output_area._bokeh_server_id;\n    // Clean up Bokeh references\n    if (id != null && id in Bokeh.index) {\n      Bokeh.index[id].model.document.clear();\n      delete Bokeh.index[id];\n    }\n\n    if (server_id !== undefined) {\n      // Clean up Bokeh references\n      const cmd_clean = \"from bokeh.io.state import curstate; print(curstate().uuid_to_server['\" + server_id + \"'].get_sessions()[0].document.roots[0]._id)\";\n      cell.notebook.kernel.execute(cmd_clean, {\n        iopub: {\n          output: function(msg) {\n            const id = msg.content.text.trim();\n            if (id in Bokeh.index) {\n              Bokeh.index[id].model.document.clear();\n              delete Bokeh.index[id];\n            }\n          }\n        }\n      });\n      // Destroy server and session\n      const cmd_destroy = \"import bokeh.io.notebook as ion; ion.destroy_server('\" + server_id + \"')\";\n      cell.notebook.kernel.execute(cmd_destroy);\n    }\n  }\n\n  /**\n   * Handle when a new output is added\n   */\n  function handleAddOutput(event, handle) {\n    const output_area = handle.output_area;\n    const output = handle.output;\n\n    // limit handleAddOutput to display_data with EXEC_MIME_TYPE content only\n    if ((output.output_type != \"display_data\") || (!Object.prototype.hasOwnProperty.call(output.data, EXEC_MIME_TYPE))) {\n      return\n    }\n\n    const toinsert = output_area.element.find(\".\" + CLASS_NAME.split(' ')[0]);\n\n    if (output.metadata[EXEC_MIME_TYPE][\"id\"] !== undefined) {\n      toinsert[toinsert.length - 1].firstChild.textContent = output.data[JS_MIME_TYPE];\n      // store reference to embed id on output_area\n      output_area._bokeh_element_id = output.metadata[EXEC_MIME_TYPE][\"id\"];\n    }\n    if (output.metadata[EXEC_MIME_TYPE][\"server_id\"] !== undefined) {\n      const bk_div = document.createElement(\"div\");\n      bk_div.innerHTML = output.data[HTML_MIME_TYPE];\n      const script_attrs = bk_div.children[0].attributes;\n      for (let i = 0; i < script_attrs.length; i++) {\n        toinsert[toinsert.length - 1].firstChild.setAttribute(script_attrs[i].name, script_attrs[i].value);\n        toinsert[toinsert.length - 1].firstChild.textContent = bk_div.children[0].textContent\n      }\n      // store reference to server id on output_area\n      output_area._bokeh_server_id = output.metadata[EXEC_MIME_TYPE][\"server_id\"];\n    }\n  }\n\n  function register_renderer(events, OutputArea) {\n\n    function append_mime(data, metadata, element) {\n      // create a DOM node to render to\n      const toinsert = this.create_output_subarea(\n        metadata,\n        CLASS_NAME,\n        EXEC_MIME_TYPE\n      );\n      this.keyboard_manager.register_events(toinsert);\n      // Render to node\n      const props = {data: data, metadata: metadata[EXEC_MIME_TYPE]};\n      render(props, toinsert[toinsert.length - 1]);\n      element.append(toinsert);\n      return toinsert\n    }\n\n    /* Handle when an output is cleared or removed */\n    events.on('clear_output.CodeCell', handleClearOutput);\n    events.on('delete.Cell', handleClearOutput);\n\n    /* Handle when a new output is added */\n    events.on('output_added.OutputArea', handleAddOutput);\n\n    /**\n     * Register the mime type and append_mime function with output_area\n     */\n    OutputArea.prototype.register_mime_type(EXEC_MIME_TYPE, append_mime, {\n      /* Is output safe? */\n      safe: true,\n      /* Index of renderer in `output_area.display_order` */\n      index: 0\n    });\n  }\n\n  // register the mime type if in Jupyter Notebook environment and previously unregistered\n  if (root.Jupyter !== undefined) {\n    const events = require('base/js/events');\n    const OutputArea = require('notebook/js/outputarea').OutputArea;\n\n    if (OutputArea.prototype.mime_types().indexOf(EXEC_MIME_TYPE) == -1) {\n      register_renderer(events, OutputArea);\n    }\n  }\n  if (typeof (root._bokeh_timeout) === \"undefined\" || force === true) {\n    root._bokeh_timeout = Date.now() + 5000;\n    root._bokeh_failed_load = false;\n  }\n\n  const NB_LOAD_WARNING = {'data': {'text/html':\n     \"<div style='background-color: #fdd'>\\n\"+\n     \"<p>\\n\"+\n     \"BokehJS does not appear to have successfully loaded. If loading BokehJS from CDN, this \\n\"+\n     \"may be due to a slow or bad network connection. Possible fixes:\\n\"+\n     \"</p>\\n\"+\n     \"<ul>\\n\"+\n     \"<li>re-rerun `output_notebook()` to attempt to load from CDN again, or</li>\\n\"+\n     \"<li>use INLINE resources instead, as so:</li>\\n\"+\n     \"</ul>\\n\"+\n     \"<code>\\n\"+\n     \"from bokeh.resources import INLINE\\n\"+\n     \"output_notebook(resources=INLINE)\\n\"+\n     \"</code>\\n\"+\n     \"</div>\"}};\n\n  function display_loaded() {\n    const el = document.getElementById(\"1002\");\n    if (el != null) {\n      el.textContent = \"BokehJS is loading...\";\n    }\n    if (root.Bokeh !== undefined) {\n      if (el != null) {\n        el.textContent = \"BokehJS \" + root.Bokeh.version + \" successfully loaded.\";\n      }\n    } else if (Date.now() < root._bokeh_timeout) {\n      setTimeout(display_loaded, 100)\n    }\n  }\n\n  function run_callbacks() {\n    try {\n      root._bokeh_onload_callbacks.forEach(function(callback) {\n        if (callback != null)\n          callback();\n      });\n    } finally {\n      delete root._bokeh_onload_callbacks\n    }\n    console.debug(\"Bokeh: all callbacks have finished\");\n  }\n\n  function load_libs(css_urls, js_urls, callback) {\n    if (css_urls == null) css_urls = [];\n    if (js_urls == null) js_urls = [];\n\n    root._bokeh_onload_callbacks.push(callback);\n    if (root._bokeh_is_loading > 0) {\n      console.debug(\"Bokeh: BokehJS is being loaded, scheduling callback at\", now());\n      return null;\n    }\n    if (js_urls == null || js_urls.length === 0) {\n      run_callbacks();\n      return null;\n    }\n    console.debug(\"Bokeh: BokehJS not loaded, scheduling load and callback at\", now());\n    root._bokeh_is_loading = css_urls.length + js_urls.length;\n\n    function on_load() {\n      root._bokeh_is_loading--;\n      if (root._bokeh_is_loading === 0) {\n        console.debug(\"Bokeh: all BokehJS libraries/stylesheets loaded\");\n        run_callbacks()\n      }\n    }\n\n    function on_error(url) {\n      console.error(\"failed to load \" + url);\n    }\n\n    for (let i = 0; i < css_urls.length; i++) {\n      const url = css_urls[i];\n      const element = document.createElement(\"link\");\n      element.onload = on_load;\n      element.onerror = on_error.bind(null, url);\n      element.rel = \"stylesheet\";\n      element.type = \"text/css\";\n      element.href = url;\n      console.debug(\"Bokeh: injecting link tag for BokehJS stylesheet: \", url);\n      document.body.appendChild(element);\n    }\n\n    for (let i = 0; i < js_urls.length; i++) {\n      const url = js_urls[i];\n      const element = document.createElement('script');\n      element.onload = on_load;\n      element.onerror = on_error.bind(null, url);\n      element.async = false;\n      element.src = url;\n      console.debug(\"Bokeh: injecting script tag for BokehJS library: \", url);\n      document.head.appendChild(element);\n    }\n  };\n\n  function inject_raw_css(css) {\n    const element = document.createElement(\"style\");\n    element.appendChild(document.createTextNode(css));\n    document.body.appendChild(element);\n  }\n\n  const js_urls = [\"https://cdn.bokeh.org/bokeh/release/bokeh-2.4.3.min.js\", \"https://cdn.bokeh.org/bokeh/release/bokeh-gl-2.4.3.min.js\", \"https://cdn.bokeh.org/bokeh/release/bokeh-widgets-2.4.3.min.js\", \"https://cdn.bokeh.org/bokeh/release/bokeh-tables-2.4.3.min.js\", \"https://cdn.bokeh.org/bokeh/release/bokeh-mathjax-2.4.3.min.js\"];\n  const css_urls = [];\n\n  const inline_js = [    function(Bokeh) {\n      Bokeh.set_log_level(\"info\");\n    },\nfunction(Bokeh) {\n    }\n  ];\n\n  function run_inline_js() {\n    if (root.Bokeh !== undefined || force === true) {\n          for (let i = 0; i < inline_js.length; i++) {\n      inline_js[i].call(root, root.Bokeh);\n    }\nif (force === true) {\n        display_loaded();\n      }} else if (Date.now() < root._bokeh_timeout) {\n      setTimeout(run_inline_js, 100);\n    } else if (!root._bokeh_failed_load) {\n      console.log(\"Bokeh: BokehJS failed to load within specified timeout.\");\n      root._bokeh_failed_load = true;\n    } else if (force !== true) {\n      const cell = $(document.getElementById(\"1002\")).parents('.cell').data().cell;\n      cell.output_area.append_execute_result(NB_LOAD_WARNING)\n    }\n  }\n\n  if (root._bokeh_is_loading === 0) {\n    console.debug(\"Bokeh: BokehJS loaded, going straight to plotting\");\n    run_inline_js();\n  } else {\n    load_libs(css_urls, js_urls, function() {\n      console.debug(\"Bokeh: BokehJS plotting callback run at\", now());\n      run_inline_js();\n    });\n  }\n}(window));",
      "application/vnd.bokehjs_load.v0+json": ""
     },
     "metadata": {},
     "output_type": "display_data"
    },
    {
     "name": "stdout",
     "output_type": "stream",
     "text": [
      "Got 103 with MAE_loss 0.002903\n",
      "Got 103 with MSE_loss 0.000023\n",
      "Got 103 with RMSE_loss 0.004766\n",
      "Got 103 with NRMSE_loss 0.049106\n",
      "Got 103 with SMAPE_loss 0.158551\n",
      "Got 103 with R2_score 0.957453\n",
      "Got 103 with MAE_percent 0.078165\n"
     ]
    },
    {
     "data": {
      "text/html": [
       "\n",
       "  <div class=\"bk-root\" id=\"4a4940dc-65c1-4e62-8158-70876e32ce63\" data-root-id=\"1003\"></div>\n"
      ]
     },
     "metadata": {},
     "output_type": "display_data"
    },
    {
     "data": {
      "application/javascript": "(function(root) {\n  function embed_document(root) {\n  const docs_json = {\"3a712079-da6e-4f5a-aec8-4fae0324cc5e\":{\"defs\":[],\"roots\":{\"references\":[{\"attributes\":{\"below\":[{\"id\":\"1012\"}],\"center\":[{\"id\":\"1015\"},{\"id\":\"1019\"},{\"id\":\"1059\"}],\"height\":400,\"left\":[{\"id\":\"1016\"}],\"renderers\":[{\"id\":\"1038\"},{\"id\":\"1044\"}],\"title\":{\"id\":\"1046\"},\"toolbar\":{\"id\":\"1027\"},\"width\":450,\"x_range\":{\"id\":\"1004\"},\"x_scale\":{\"id\":\"1008\"},\"y_range\":{\"id\":\"1006\"},\"y_scale\":{\"id\":\"1010\"}},\"id\":\"1003\",\"subtype\":\"Figure\",\"type\":\"Plot\"},{\"attributes\":{\"bottom_units\":\"screen\",\"coordinates\":null,\"fill_alpha\":0.5,\"fill_color\":\"lightgrey\",\"group\":null,\"left_units\":\"screen\",\"level\":\"overlay\",\"line_alpha\":1.0,\"line_color\":\"black\",\"line_dash\":[4,4],\"line_width\":2,\"right_units\":\"screen\",\"syncable\":false,\"top_units\":\"screen\"},\"id\":\"1026\",\"type\":\"BoxAnnotation\"},{\"attributes\":{\"source\":{\"id\":\"1040\"}},\"id\":\"1045\",\"type\":\"CDSView\"},{\"attributes\":{},\"id\":\"1050\",\"type\":\"AllLabels\"},{\"attributes\":{},\"id\":\"1055\",\"type\":\"Selection\"},{\"attributes\":{\"coordinates\":null,\"data_source\":{\"id\":\"1040\"},\"glyph\":{\"id\":\"1041\"},\"group\":null,\"hover_glyph\":null,\"muted_glyph\":{\"id\":\"1043\"},\"nonselection_glyph\":{\"id\":\"1042\"},\"view\":{\"id\":\"1045\"}},\"id\":\"1044\",\"type\":\"GlyphRenderer\"},{\"attributes\":{\"end\":0.1,\"start\":-0.001},\"id\":\"1006\",\"type\":\"Range1d\"},{\"attributes\":{},\"id\":\"1024\",\"type\":\"ResetTool\"},{\"attributes\":{\"label\":{\"value\":\"Perfect fit\"},\"renderers\":[{\"id\":\"1044\"}]},\"id\":\"1060\",\"type\":\"LegendItem\"},{\"attributes\":{\"axis\":{\"id\":\"1016\"},\"coordinates\":null,\"dimension\":1,\"group\":null,\"ticker\":null},\"id\":\"1019\",\"type\":\"Grid\"},{\"attributes\":{},\"id\":\"1020\",\"type\":\"PanTool\"},{\"attributes\":{},\"id\":\"1021\",\"type\":\"WheelZoomTool\"},{\"attributes\":{\"tools\":[{\"id\":\"1020\"},{\"id\":\"1021\"},{\"id\":\"1022\"},{\"id\":\"1023\"},{\"id\":\"1024\"},{\"id\":\"1025\"}]},\"id\":\"1027\",\"type\":\"Toolbar\"},{\"attributes\":{\"line_alpha\":0.2,\"line_color\":\"grey\",\"line_dash\":[2,2],\"x\":{\"field\":\"x\"},\"y\":{\"field\":\"y\"}},\"id\":\"1043\",\"type\":\"Line\"},{\"attributes\":{\"overlay\":{\"id\":\"1026\"}},\"id\":\"1022\",\"type\":\"BoxZoomTool\"},{\"attributes\":{\"axis_label\":\"Porosity, experimental values\",\"coordinates\":null,\"formatter\":{\"id\":\"1052\"},\"group\":null,\"major_label_policy\":{\"id\":\"1053\"},\"ticker\":{\"id\":\"1013\"}},\"id\":\"1012\",\"type\":\"LinearAxis\"},{\"attributes\":{},\"id\":\"1023\",\"type\":\"SaveTool\"},{\"attributes\":{},\"id\":\"1008\",\"type\":\"LinearScale\"},{\"attributes\":{\"source\":{\"id\":\"1034\"}},\"id\":\"1039\",\"type\":\"CDSView\"},{\"attributes\":{\"line_alpha\":0.1,\"line_color\":\"grey\",\"line_dash\":[2,2],\"x\":{\"field\":\"x\"},\"y\":{\"field\":\"y\"}},\"id\":\"1042\",\"type\":\"Line\"},{\"attributes\":{},\"id\":\"1010\",\"type\":\"LinearScale\"},{\"attributes\":{},\"id\":\"1025\",\"type\":\"HelpTool\"},{\"attributes\":{},\"id\":\"1013\",\"type\":\"BasicTicker\"},{\"attributes\":{\"axis_label\":\"Porosity, predicted values\",\"coordinates\":null,\"formatter\":{\"id\":\"1049\"},\"group\":null,\"major_label_policy\":{\"id\":\"1050\"},\"ticker\":{\"id\":\"1017\"}},\"id\":\"1016\",\"type\":\"LinearAxis\"},{\"attributes\":{\"coordinates\":null,\"group\":null},\"id\":\"1046\",\"type\":\"Title\"},{\"attributes\":{},\"id\":\"1052\",\"type\":\"BasicTickFormatter\"},{\"attributes\":{},\"id\":\"1054\",\"type\":\"UnionRenderers\"},{\"attributes\":{\"fill_alpha\":{\"value\":0.2},\"fill_color\":{\"value\":\"black\"},\"hatch_alpha\":{\"value\":0.2},\"line_alpha\":{\"value\":0.2},\"x\":{\"field\":\"x\"},\"y\":{\"field\":\"y\"}},\"id\":\"1037\",\"type\":\"Circle\"},{\"attributes\":{},\"id\":\"1017\",\"type\":\"BasicTicker\"},{\"attributes\":{},\"id\":\"1053\",\"type\":\"AllLabels\"},{\"attributes\":{\"data\":{\"x\":[0.0,0.010101010101010102,0.020202020202020204,0.030303030303030304,0.04040404040404041,0.05050505050505051,0.06060606060606061,0.07070707070707072,0.08080808080808081,0.09090909090909091,0.10101010101010102,0.11111111111111112,0.12121212121212122,0.13131313131313133,0.14141414141414144,0.15151515151515152,0.16161616161616163,0.17171717171717174,0.18181818181818182,0.19191919191919193,0.20202020202020204,0.21212121212121213,0.22222222222222224,0.23232323232323235,0.24242424242424243,0.25252525252525254,0.26262626262626265,0.27272727272727276,0.2828282828282829,0.29292929292929293,0.30303030303030304,0.31313131313131315,0.32323232323232326,0.33333333333333337,0.3434343434343435,0.3535353535353536,0.36363636363636365,0.37373737373737376,0.38383838383838387,0.393939393939394,0.4040404040404041,0.4141414141414142,0.42424242424242425,0.43434343434343436,0.4444444444444445,0.4545454545454546,0.4646464646464647,0.4747474747474748,0.48484848484848486,0.494949494949495,0.5050505050505051,0.5151515151515152,0.5252525252525253,0.5353535353535354,0.5454545454545455,0.5555555555555556,0.5656565656565657,0.5757575757575758,0.5858585858585859,0.595959595959596,0.6060606060606061,0.6161616161616162,0.6262626262626263,0.6363636363636365,0.6464646464646465,0.6565656565656566,0.6666666666666667,0.6767676767676768,0.686868686868687,0.696969696969697,0.7070707070707072,0.7171717171717172,0.7272727272727273,0.7373737373737375,0.7474747474747475,0.7575757575757577,0.7676767676767677,0.7777777777777778,0.787878787878788,0.797979797979798,0.8080808080808082,0.8181818181818182,0.8282828282828284,0.8383838383838385,0.8484848484848485,0.8585858585858587,0.8686868686868687,0.8787878787878789,0.888888888888889,0.8989898989898991,0.9090909090909092,0.9191919191919192,0.9292929292929294,0.9393939393939394,0.9494949494949496,0.9595959595959597,0.9696969696969697,0.9797979797979799,0.98989898989899,1.0],\"y\":[0.0,0.010101010101010102,0.020202020202020204,0.030303030303030304,0.04040404040404041,0.05050505050505051,0.06060606060606061,0.07070707070707072,0.08080808080808081,0.09090909090909091,0.10101010101010102,0.11111111111111112,0.12121212121212122,0.13131313131313133,0.14141414141414144,0.15151515151515152,0.16161616161616163,0.17171717171717174,0.18181818181818182,0.19191919191919193,0.20202020202020204,0.21212121212121213,0.22222222222222224,0.23232323232323235,0.24242424242424243,0.25252525252525254,0.26262626262626265,0.27272727272727276,0.2828282828282829,0.29292929292929293,0.30303030303030304,0.31313131313131315,0.32323232323232326,0.33333333333333337,0.3434343434343435,0.3535353535353536,0.36363636363636365,0.37373737373737376,0.38383838383838387,0.393939393939394,0.4040404040404041,0.4141414141414142,0.42424242424242425,0.43434343434343436,0.4444444444444445,0.4545454545454546,0.4646464646464647,0.4747474747474748,0.48484848484848486,0.494949494949495,0.5050505050505051,0.5151515151515152,0.5252525252525253,0.5353535353535354,0.5454545454545455,0.5555555555555556,0.5656565656565657,0.5757575757575758,0.5858585858585859,0.595959595959596,0.6060606060606061,0.6161616161616162,0.6262626262626263,0.6363636363636365,0.6464646464646465,0.6565656565656566,0.6666666666666667,0.6767676767676768,0.686868686868687,0.696969696969697,0.7070707070707072,0.7171717171717172,0.7272727272727273,0.7373737373737375,0.7474747474747475,0.7575757575757577,0.7676767676767677,0.7777777777777778,0.787878787878788,0.797979797979798,0.8080808080808082,0.8181818181818182,0.8282828282828284,0.8383838383838385,0.8484848484848485,0.8585858585858587,0.8686868686868687,0.8787878787878789,0.888888888888889,0.8989898989898991,0.9090909090909092,0.9191919191919192,0.9292929292929294,0.9393939393939394,0.9494949494949496,0.9595959595959597,0.9696969696969697,0.9797979797979799,0.98989898989899,1.0]},\"selected\":{\"id\":\"1057\"},\"selection_policy\":{\"id\":\"1056\"}},\"id\":\"1040\",\"type\":\"ColumnDataSource\"},{\"attributes\":{\"fill_color\":{\"value\":\"black\"},\"x\":{\"field\":\"x\"},\"y\":{\"field\":\"y\"}},\"id\":\"1035\",\"type\":\"Circle\"},{\"attributes\":{\"axis\":{\"id\":\"1012\"},\"coordinates\":null,\"group\":null,\"ticker\":null},\"id\":\"1015\",\"type\":\"Grid\"},{\"attributes\":{\"line_alpha\":0.5,\"line_color\":\"grey\",\"line_dash\":[2,2],\"x\":{\"field\":\"x\"},\"y\":{\"field\":\"y\"}},\"id\":\"1041\",\"type\":\"Line\"},{\"attributes\":{\"coordinates\":null,\"data_source\":{\"id\":\"1034\"},\"glyph\":{\"id\":\"1035\"},\"group\":null,\"hover_glyph\":null,\"muted_glyph\":{\"id\":\"1037\"},\"nonselection_glyph\":{\"id\":\"1036\"},\"view\":{\"id\":\"1039\"}},\"id\":\"1038\",\"type\":\"GlyphRenderer\"},{\"attributes\":{},\"id\":\"1057\",\"type\":\"Selection\"},{\"attributes\":{\"data\":{\"x\":[0.09705883264541626,0.09704899787902832,0.09703916311264038,0.09334307909011841,0.08326464891433716,0.08235293626785278,0.079196035861969,0.07591170072555542,0.07530385255813599,0.06852936744689941,0.06554895639419556,0.06514698266983032,0.06280392408370972,0.06181371212005615,0.0617254376411438,0.06128424406051636,0.06006854772567749,0.05997055768966675,0.05960780382156372,0.05933326482772827,0.05833333730697632,0.058196067810058594,0.057509779930114746,0.05677449703216553,0.05675482749938965,0.05637252330780029,0.05469602346420288,0.05404895544052124,0.05368626117706299,0.0527646541595459,0.05198031663894653,0.051372528076171875,0.05108821392059326,0.050303876399993896,0.04950976371765137,0.047892093658447266,0.04711759090423584,0.04630386829376221,0.04217642545700073,0.039196014404296875,0.03908818960189819,0.03492152690887451,0.030539214611053467,0.030137240886688232,0.02978426218032837,0.029068589210510254,0.028970539569854736,0.028774499893188477,0.028274476528167725,0.028156816959381104,0.028039216995239258,0.026627421379089355,0.02661764621734619,0.026519596576690674,0.02617645263671875,0.02578425407409668,0.024980366230010986,0.024607837200164795,0.024578392505645752,0.024372518062591553,0.02373528480529785,0.023637235164642334,0.023607850074768066,0.023421525955200195,0.023392140865325928,0.02328425645828247,0.023245036602020264,0.02271568775177002,0.022548973560333252,0.022539198398590088,0.02197057008743286,0.02172541618347168,0.021362721920013428,0.021274447441101074,0.02125483751296997,0.021225452423095703,0.021078407764434814,0.020833313465118408,0.020803868770599365,0.020539164543151855,0.020166635513305664,0.01988232135772705,0.019833266735076904,0.019647061824798584,0.019411742687225342,0.019078373908996582,0.018941164016723633,0.018725454807281494,0.018264591693878174,0.01725482940673828,0.017156779766082764,0.017058849334716797,0.016186296939849854,0.01570582389831543,0.014705896377563477,0.014382362365722656,0.013803839683532715,0.009392201900482178,0.0026273727416992188,0.00036275386810302734,2.9325485229492188e-05,9.834766387939453e-06,0.0],\"y\":[0.09554779529571533,0.09688615798950195,0.09585946798324585,0.09214282035827637,0.08188056945800781,0.08095699548721313,0.07160371541976929,0.07146602869033813,0.07310110330581665,0.0648539662361145,0.06361889839172363,0.062264978885650635,0.06379413604736328,0.059072136878967285,0.05981290340423584,0.059391558170318604,0.0565723180770874,0.05881279706954956,0.06062674522399902,0.05951106548309326,0.057625532150268555,0.061101436614990234,0.05712002515792847,0.048735082149505615,0.05969637632369995,0.057117998600006104,0.05819880962371826,0.050397515296936035,0.05532771348953247,0.07582128047943115,0.053374528884887695,0.051260411739349365,0.0668603777885437,0.04562175273895264,0.04835844039916992,0.04968219995498657,0.05294477939605713,0.04677844047546387,0.04260069131851196,0.03727424144744873,0.04112488031387329,0.02778714895248413,0.031908392906188965,0.026526689529418945,0.02846503257751465,0.027955055236816406,0.024974584579467773,0.025550663471221924,0.027827680110931396,0.028681516647338867,0.028994202613830566,0.025406837463378906,0.018100202083587646,0.024036705493927002,0.02329355478286743,0.02375584840774536,0.024639546871185303,0.03828155994415283,0.023888051509857178,0.023886382579803467,0.0312996506690979,0.020700931549072266,0.02341485023498535,0.02198237180709839,0.01874518394470215,0.025807619094848633,0.024135172367095947,0.023386120796203613,0.023395538330078125,0.024443864822387695,0.02242356538772583,0.022933661937713623,0.01933109760284424,0.021094322204589844,0.017363905906677246,0.025455057621002197,0.02133476734161377,0.021632075309753418,0.020929396152496338,0.020085573196411133,0.020060718059539795,0.020303845405578613,0.020910799503326416,0.02505403757095337,0.02471095323562622,0.021732330322265625,0.018869996070861816,0.020731568336486816,0.01903432607650757,0.019161462783813477,0.018602490425109863,0.01870417594909668,0.011276960372924805,0.0191003680229187,0.02346336841583252,0.01334083080291748,0.01599729061126709,0.005490779876708984,0.003096282482147217,0.0025876760482788086,-0.0016450881958007812,0.0209541916847229,0.007304251194000244]},\"selected\":{\"id\":\"1055\"},\"selection_policy\":{\"id\":\"1054\"}},\"id\":\"1034\",\"type\":\"ColumnDataSource\"},{\"attributes\":{\"fill_alpha\":{\"value\":0.1},\"fill_color\":{\"value\":\"black\"},\"hatch_alpha\":{\"value\":0.1},\"line_alpha\":{\"value\":0.1},\"x\":{\"field\":\"x\"},\"y\":{\"field\":\"y\"}},\"id\":\"1036\",\"type\":\"Circle\"},{\"attributes\":{},\"id\":\"1056\",\"type\":\"UnionRenderers\"},{\"attributes\":{\"end\":0.1,\"start\":-0.001},\"id\":\"1004\",\"type\":\"Range1d\"},{\"attributes\":{},\"id\":\"1049\",\"type\":\"BasicTickFormatter\"},{\"attributes\":{\"coordinates\":null,\"group\":null,\"items\":[{\"id\":\"1060\"}],\"location\":\"top_left\"},\"id\":\"1059\",\"type\":\"Legend\"}],\"root_ids\":[\"1003\"]},\"title\":\"Bokeh Application\",\"version\":\"2.4.3\"}};\n  const render_items = [{\"docid\":\"3a712079-da6e-4f5a-aec8-4fae0324cc5e\",\"root_ids\":[\"1003\"],\"roots\":{\"1003\":\"4a4940dc-65c1-4e62-8158-70876e32ce63\"}}];\n  root.Bokeh.embed.embed_items_notebook(docs_json, render_items);\n  }\n  if (root.Bokeh !== undefined) {\n    embed_document(root);\n  } else {\n    let attempts = 0;\n    const timer = setInterval(function(root) {\n      if (root.Bokeh !== undefined) {\n        clearInterval(timer);\n        embed_document(root);\n      } else {\n        attempts++;\n        if (attempts > 100) {\n          clearInterval(timer);\n          console.log(\"Bokeh: ERROR: Unable to run BokehJS code because BokehJS library is missing\");\n        }\n      }\n    }, 10, root)\n  }\n})(window);",
      "application/vnd.bokehjs_exec.v0+json": ""
     },
     "metadata": {
      "application/vnd.bokehjs_exec.v0+json": {
       "id": "1003"
      }
     },
     "output_type": "display_data"
    }
   ],
   "source": [
    "import warnings\n",
    "import numpy as np\n",
    "import torch\n",
    "import torchvision.datasets as datasets\n",
    "import torchvision.transforms as transforms\n",
    "from bokeh.io import output_notebook\n",
    "from bokeh.plotting import figure as bo_figure\n",
    "from bokeh.plotting import show as bo_show\n",
    "from sklearn.metrics import mean_absolute_error, mean_squared_error, r2_score\n",
    "from torch.utils.data import DataLoader\n",
    "from torchvision.models import resnet34, resnet50\n",
    "from resnet_cbam import resnet34_cbam, resnet50_cbam\n",
    "\n",
    "warnings.filterwarnings('ignore')\n",
    "output_notebook()\n",
    "device = torch.device('cpu')\n",
    "num_classes = 1\n",
    "\n",
    "data_transform = transforms.Compose([\n",
    "transforms.Resize(360),  # Scaling the image (Image), keeping the aspect ratio constant\n",
    "transforms.Grayscale(1),\n",
    "transforms.ToTensor(),  # Convert Image to Tensor, normalize to [0, 1]\n",
    "transforms.Normalize(mean=0.0601, std=0.1734)  # Standardized to [-1, 1], specifying the mean and standard deviation\n",
    "])\n",
    "\n",
    "test_dataset = datasets.ImageFolder(root=\"E:/Thesis/code/final/target_data/test/\",transform=data_transform) #Testdata file locations\n",
    "# Data loader\n",
    "test_loader = DataLoader(test_dataset,batch_size=1,shuffle=False)\n",
    "\n",
    "\"\"\"\n",
    "model = resnet50(pretrained=False, num_classes=num_classes)\n",
    "model.conv1 = nn.Conv2d(1, 64, kernel_size=7, stride=2, padding=3, bias=False)\n",
    "model.to(device)\n",
    "\"\"\"\n",
    "model = resnet34_cbam(pretrained=False, num_classes=num_classes)\n",
    "\n",
    "def convert_target3(target):\n",
    "    \n",
    "    i = 0\n",
    "    y = torch.zeros(target)\n",
    "    y = y.to(torch.float32)\n",
    "    for item in target:\n",
    "        y = float(test_dataset.classes[int(item)])\n",
    "    y = torch.tensor(y)\n",
    "    y = torch.unsqueeze(y, dim=0)\n",
    "    y = torch.unsqueeze(y, dim=1)\n",
    "    # print(y)\n",
    "    return y\n",
    "\n",
    "def inverse_norm_to_porosity(norm_value):\n",
    "    \"\"\" Converting normalized density values to porosity values \"\"\"\n",
    "    return 1 - (0.92+norm_value/10)/1.02\n",
    "\n",
    "def smape(y_true, y_pred):\n",
    "    y_true = np.array(y_true)\n",
    "    y_pred = np.array(y_pred)\n",
    "    return np.fabs((y_true - y_pred)/((np.abs(y_true)+np.abs(y_pred))/2)).mean()\n",
    "\n",
    "def nrmse(y_true, y_pred):\n",
    "    \"\"\" Normalized Root Mean Squared Error \"\"\"\n",
    "    actual = np.array(y_true)\n",
    "    return np.sqrt(mean_squared_error(y_true,y_pred)) / (actual.max() - actual.min())\n",
    "\n",
    "def mae_percent(y_true, y_pred):\n",
    "    return mean_absolute_error(y_true,y_pred)/ (sum(y_true)/len(y_true))\n",
    "\n",
    "def check_accuracy(loader, model):\n",
    "    \"\"\" Checking model accuracy \"\"\"\n",
    "    num_samples = 0\n",
    "    model.load_state_dict(torch.load('res_34.pt'))\n",
    "    model.eval()  # Adjust the model to eval mode\n",
    "    with torch.no_grad():\n",
    "        predictions = torch.zeros((loader.__len__()))\n",
    "        y_real = torch.zeros((loader.__len__()))\n",
    "        i = 0\n",
    "        for x, y in loader:\n",
    "            x = x\n",
    "            y_real[i] = inverse_norm_to_porosity(convert_target3(y))\n",
    "            predictions[i] = inverse_norm_to_porosity(model(x))\n",
    "            # print('pre', predictions[i])\n",
    "            # print('real', y_real[i])\n",
    "            num_samples += 1\n",
    "            i += 1\n",
    "\n",
    "\n",
    "    fit_x = np.linspace(0,1,100).tolist()\n",
    "    fit_y = np.linspace(0,1,100).tolist()\n",
    "    predict_dot_x = y_real.numpy().tolist()\n",
    "    predict_dot_y = predictions.numpy().tolist()\n",
    "    MAE_loss = mean_absolute_error(predict_dot_x,predict_dot_y)\n",
    "    print(f'Got {num_samples} with MAE_loss {MAE_loss:.6f}')\n",
    "    MSE_loss = mean_squared_error(predict_dot_x,predict_dot_y)\n",
    "    print(f'Got {num_samples} with MSE_loss {MSE_loss:.6f}')\n",
    "    RMSE_loss = np.sqrt(mean_squared_error(predict_dot_x,predict_dot_y))\n",
    "    print(f'Got {num_samples} with RMSE_loss {RMSE_loss:.6f}')\n",
    "    NRMSE_loss = nrmse(predict_dot_x,predict_dot_y)\n",
    "    print(f'Got {num_samples} with NRMSE_loss {NRMSE_loss:.6f}')\n",
    "    SMAPE_loss = smape(predict_dot_x,predict_dot_y)\n",
    "    print(f'Got {num_samples} with SMAPE_loss {SMAPE_loss:.6f}')\n",
    "    R2_score = r2_score(predict_dot_x,predict_dot_y)\n",
    "    print(f'Got {num_samples} with R2_score {R2_score:.6f}')\n",
    "    MAE_percent = mae_percent(predict_dot_x,predict_dot_y)\n",
    "    print(f'Got {num_samples} with MAE_percent {MAE_percent:.6f}')\n",
    "    # plot use Bokeh\n",
    "    p = bo_figure(plot_width=450, plot_height=400, y_range=[-0.001, 0.1], x_range=[-0.001, 0.1],\n",
    "    x_axis_label='Porosity, experimental values', y_axis_label='Porosity, predicted values')\n",
    "    p.circle(predict_dot_x, predict_dot_y, color=\"black\")\n",
    "    p.line(fit_x,fit_y, legend=\"Perfect fit\", line_color=\"grey\", alpha=0.5, line_dash=\"2 2\")\n",
    "    p.legend.location = \"top_left\"\n",
    "    bo_show(p)\n",
    "    return \n",
    "\n",
    "\n",
    "\n",
    "check_accuracy(test_loader, model)"
   ]
  }
 ],
 "metadata": {
  "kernelspec": {
   "display_name": "Python 3.7.13 ('base')",
   "language": "python",
   "name": "python3"
  },
  "language_info": {
   "codemirror_mode": {
    "name": "ipython",
    "version": 3
   },
   "file_extension": ".py",
   "mimetype": "text/x-python",
   "name": "python",
   "nbconvert_exporter": "python",
   "pygments_lexer": "ipython3",
   "version": "3.7.13"
  },
  "vscode": {
   "interpreter": {
    "hash": "f64c4803f069856354f671770f63c86fb610bb855fdae59ff6e1e960039ac7b6"
   }
  }
 },
 "nbformat": 4,
 "nbformat_minor": 5
}
