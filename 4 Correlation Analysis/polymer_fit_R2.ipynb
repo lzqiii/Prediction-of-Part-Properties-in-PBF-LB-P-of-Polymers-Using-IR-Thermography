{
 "cells": [
  {
   "cell_type": "markdown",
   "metadata": {},
   "source": [
    "This code is used to implement a multivariate polynomial fit and find R2"
   ]
  },
  {
   "cell_type": "code",
   "execution_count": null,
   "metadata": {},
   "outputs": [],
   "source": [
    "import pandas as pd\n",
    "from sklearn.linear_model import LinearRegression as LR\n",
    "from sklearn.metrics import r2_score\n",
    "from sklearn.preprocessing import PolynomialFeatures   #StandardScaler\n",
    "\n",
    "data = pd.read_csv('density_data.csv')    \n",
    "x = data[['energy_density', 'size','speed']]\n",
    "y = data['n_density']"
   ]
  },
  {
   "cell_type": "code",
   "execution_count": 2,
   "metadata": {},
   "outputs": [
    {
     "data": {
      "text/html": [
       "<div>\n",
       "<style scoped>\n",
       "    .dataframe tbody tr th:only-of-type {\n",
       "        vertical-align: middle;\n",
       "    }\n",
       "\n",
       "    .dataframe tbody tr th {\n",
       "        vertical-align: top;\n",
       "    }\n",
       "\n",
       "    .dataframe thead th {\n",
       "        text-align: right;\n",
       "    }\n",
       "</style>\n",
       "<table border=\"1\" class=\"dataframe\">\n",
       "  <thead>\n",
       "    <tr style=\"text-align: right;\">\n",
       "      <th></th>\n",
       "      <th>0</th>\n",
       "      <th>1</th>\n",
       "      <th>2</th>\n",
       "      <th>3</th>\n",
       "      <th>4</th>\n",
       "      <th>5</th>\n",
       "      <th>6</th>\n",
       "      <th>7</th>\n",
       "      <th>8</th>\n",
       "    </tr>\n",
       "  </thead>\n",
       "  <tbody>\n",
       "    <tr>\n",
       "      <th>0</th>\n",
       "      <td>0.18</td>\n",
       "      <td>1.5</td>\n",
       "      <td>5000.0</td>\n",
       "      <td>0.0324</td>\n",
       "      <td>0.27</td>\n",
       "      <td>900.0</td>\n",
       "      <td>2.25</td>\n",
       "      <td>7500.0</td>\n",
       "      <td>25000000.0</td>\n",
       "    </tr>\n",
       "    <tr>\n",
       "      <th>1</th>\n",
       "      <td>0.18</td>\n",
       "      <td>2.0</td>\n",
       "      <td>5000.0</td>\n",
       "      <td>0.0324</td>\n",
       "      <td>0.36</td>\n",
       "      <td>900.0</td>\n",
       "      <td>4.00</td>\n",
       "      <td>10000.0</td>\n",
       "      <td>25000000.0</td>\n",
       "    </tr>\n",
       "    <tr>\n",
       "      <th>2</th>\n",
       "      <td>0.18</td>\n",
       "      <td>2.5</td>\n",
       "      <td>5000.0</td>\n",
       "      <td>0.0324</td>\n",
       "      <td>0.45</td>\n",
       "      <td>900.0</td>\n",
       "      <td>6.25</td>\n",
       "      <td>12500.0</td>\n",
       "      <td>25000000.0</td>\n",
       "    </tr>\n",
       "    <tr>\n",
       "      <th>3</th>\n",
       "      <td>0.18</td>\n",
       "      <td>3.0</td>\n",
       "      <td>5000.0</td>\n",
       "      <td>0.0324</td>\n",
       "      <td>0.54</td>\n",
       "      <td>900.0</td>\n",
       "      <td>9.00</td>\n",
       "      <td>15000.0</td>\n",
       "      <td>25000000.0</td>\n",
       "    </tr>\n",
       "    <tr>\n",
       "      <th>4</th>\n",
       "      <td>0.18</td>\n",
       "      <td>5.0</td>\n",
       "      <td>5000.0</td>\n",
       "      <td>0.0324</td>\n",
       "      <td>0.90</td>\n",
       "      <td>900.0</td>\n",
       "      <td>25.00</td>\n",
       "      <td>25000.0</td>\n",
       "      <td>25000000.0</td>\n",
       "    </tr>\n",
       "  </tbody>\n",
       "</table>\n",
       "</div>"
      ],
      "text/plain": [
       "      0    1       2       3     4      5      6        7           8\n",
       "0  0.18  1.5  5000.0  0.0324  0.27  900.0   2.25   7500.0  25000000.0\n",
       "1  0.18  2.0  5000.0  0.0324  0.36  900.0   4.00  10000.0  25000000.0\n",
       "2  0.18  2.5  5000.0  0.0324  0.45  900.0   6.25  12500.0  25000000.0\n",
       "3  0.18  3.0  5000.0  0.0324  0.54  900.0   9.00  15000.0  25000000.0\n",
       "4  0.18  5.0  5000.0  0.0324  0.90  900.0  25.00  25000.0  25000000.0"
      ]
     },
     "execution_count": 2,
     "metadata": {},
     "output_type": "execute_result"
    }
   ],
   "source": [
    "# degree denotes the dimension of the polynomial\n",
    "# interaction_only indicates if only a*b is used\n",
    "# include_bias indicates whether to add a bias item with all columns equal to 1\n",
    "po = PolynomialFeatures(degree=2, interaction_only=False, include_bias=False)\n",
    "x_poly = po.fit_transform(x)\n",
    "pd.DataFrame(x_poly).head()"
   ]
  },
  {
   "cell_type": "code",
   "execution_count": 3,
   "metadata": {},
   "outputs": [
    {
     "data": {
      "text/html": [
       "<div>\n",
       "<style scoped>\n",
       "    .dataframe tbody tr th:only-of-type {\n",
       "        vertical-align: middle;\n",
       "    }\n",
       "\n",
       "    .dataframe tbody tr th {\n",
       "        vertical-align: top;\n",
       "    }\n",
       "\n",
       "    .dataframe thead th {\n",
       "        text-align: right;\n",
       "    }\n",
       "</style>\n",
       "<table border=\"1\" class=\"dataframe\">\n",
       "  <thead>\n",
       "    <tr style=\"text-align: right;\">\n",
       "      <th></th>\n",
       "      <th>0</th>\n",
       "      <th>1</th>\n",
       "      <th>2</th>\n",
       "      <th>3</th>\n",
       "      <th>4</th>\n",
       "      <th>5</th>\n",
       "      <th>6</th>\n",
       "      <th>7</th>\n",
       "      <th>8</th>\n",
       "    </tr>\n",
       "  </thead>\n",
       "  <tbody>\n",
       "    <tr>\n",
       "      <th>0</th>\n",
       "      <td>0.18</td>\n",
       "      <td>1.5</td>\n",
       "      <td>5000.0</td>\n",
       "      <td>0.0324</td>\n",
       "      <td>0.27</td>\n",
       "      <td>900.0</td>\n",
       "      <td>2.25</td>\n",
       "      <td>7500.0</td>\n",
       "      <td>25000000.0</td>\n",
       "    </tr>\n",
       "    <tr>\n",
       "      <th>1</th>\n",
       "      <td>0.18</td>\n",
       "      <td>2.0</td>\n",
       "      <td>5000.0</td>\n",
       "      <td>0.0324</td>\n",
       "      <td>0.36</td>\n",
       "      <td>900.0</td>\n",
       "      <td>4.00</td>\n",
       "      <td>10000.0</td>\n",
       "      <td>25000000.0</td>\n",
       "    </tr>\n",
       "    <tr>\n",
       "      <th>2</th>\n",
       "      <td>0.18</td>\n",
       "      <td>2.5</td>\n",
       "      <td>5000.0</td>\n",
       "      <td>0.0324</td>\n",
       "      <td>0.45</td>\n",
       "      <td>900.0</td>\n",
       "      <td>6.25</td>\n",
       "      <td>12500.0</td>\n",
       "      <td>25000000.0</td>\n",
       "    </tr>\n",
       "    <tr>\n",
       "      <th>3</th>\n",
       "      <td>0.18</td>\n",
       "      <td>3.0</td>\n",
       "      <td>5000.0</td>\n",
       "      <td>0.0324</td>\n",
       "      <td>0.54</td>\n",
       "      <td>900.0</td>\n",
       "      <td>9.00</td>\n",
       "      <td>15000.0</td>\n",
       "      <td>25000000.0</td>\n",
       "    </tr>\n",
       "    <tr>\n",
       "      <th>4</th>\n",
       "      <td>0.18</td>\n",
       "      <td>5.0</td>\n",
       "      <td>5000.0</td>\n",
       "      <td>0.0324</td>\n",
       "      <td>0.90</td>\n",
       "      <td>900.0</td>\n",
       "      <td>25.00</td>\n",
       "      <td>25000.0</td>\n",
       "      <td>25000000.0</td>\n",
       "    </tr>\n",
       "  </tbody>\n",
       "</table>\n",
       "</div>"
      ],
      "text/plain": [
       "      0    1       2       3     4      5      6        7           8\n",
       "0  0.18  1.5  5000.0  0.0324  0.27  900.0   2.25   7500.0  25000000.0\n",
       "1  0.18  2.0  5000.0  0.0324  0.36  900.0   4.00  10000.0  25000000.0\n",
       "2  0.18  2.5  5000.0  0.0324  0.45  900.0   6.25  12500.0  25000000.0\n",
       "3  0.18  3.0  5000.0  0.0324  0.54  900.0   9.00  15000.0  25000000.0\n",
       "4  0.18  5.0  5000.0  0.0324  0.90  900.0  25.00  25000.0  25000000.0"
      ]
     },
     "execution_count": 3,
     "metadata": {},
     "output_type": "execute_result"
    }
   ],
   "source": [
    "# x_poly = pd.DataFrame(x_poly, columns=['0', '1', '2', '3', '4', '5', '6', '7', '8'])\n",
    "x_poly = pd.DataFrame(x_poly)\n",
    "x_poly.head()"
   ]
  },
  {
   "cell_type": "code",
   "execution_count": 4,
   "metadata": {},
   "outputs": [],
   "source": [
    "reg = LR().fit(x_poly,y)\n",
    "yhat = reg.predict(x_poly)\n",
    "\n"
   ]
  },
  {
   "cell_type": "code",
   "execution_count": 6,
   "metadata": {},
   "outputs": [
    {
     "data": {
      "text/plain": [
       "0.623165893277306"
      ]
     },
     "execution_count": 6,
     "metadata": {},
     "output_type": "execute_result"
    }
   ],
   "source": [
    "r2_score(y, yhat) \n",
    "# Calculate R2"
   ]
  }
 ],
 "metadata": {
  "kernelspec": {
   "display_name": "Python 3.7.13 ('base')",
   "language": "python",
   "name": "python3"
  },
  "language_info": {
   "codemirror_mode": {
    "name": "ipython",
    "version": 3
   },
   "file_extension": ".py",
   "mimetype": "text/x-python",
   "name": "python",
   "nbconvert_exporter": "python",
   "pygments_lexer": "ipython3",
   "version": "3.7.13"
  },
  "orig_nbformat": 4,
  "vscode": {
   "interpreter": {
    "hash": "f64c4803f069856354f671770f63c86fb610bb855fdae59ff6e1e960039ac7b6"
   }
  }
 },
 "nbformat": 4,
 "nbformat_minor": 2
}
